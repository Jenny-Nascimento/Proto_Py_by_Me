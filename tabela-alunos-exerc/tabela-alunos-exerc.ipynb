{
 "cells": [
  {
   "cell_type": "code",
   "execution_count": 1,
   "id": "bfa9bd1a",
   "metadata": {},
   "outputs": [
    {
     "name": "stdout",
     "output_type": "stream",
     "text": [
      "        NOMES  SERIES BRINQUEDOS  IDADE\n",
      "0       Paula       8       Bola      7\n",
      "1       Pedro       6       Peao      7\n",
      "2       Aline       5       Bola      7\n",
      "3      Sergio       5     Boneca     12\n",
      "4       Diana       2    Panelas     11\n",
      "5      Mateus       4  Carrinhos     12\n",
      "6      Rafael       4    Ursinho      6\n",
      "7     Gabriel       4   Pandeiro      8\n",
      "8     Juliana       9     Violao      9\n",
      "9    Fernanda       8      Piano      9\n",
      "10   Thamires       7      Piano      9\n",
      "11      Aline       6    Ursinho      8\n",
      "12    Beatriz       5      Corda     10\n",
      "13  Valentina       4     Violao     15\n",
      "14       Enzo       3     Peteca     13\n",
      "15    Cleiton       2  Bicicleta     13\n",
      "16      Jenny       1  Bicicleta     14\n",
      "17  Jaqueline       1     Patins     15\n",
      "18    Jessica       1   Patinete      6\n"
     ]
    }
   ],
   "source": [
    "import pandas as pd\n",
    "\n",
    "tabela = pd.read_csv(\"tabela-alunos.csv\")\n",
    "\n",
    "print (tabela)"
   ]
  },
  {
   "cell_type": "code",
   "execution_count": null,
   "id": "e325b141",
   "metadata": {},
   "outputs": [],
   "source": []
  }
 ],
 "metadata": {
  "kernelspec": {
   "display_name": "Python 3 (ipykernel)",
   "language": "python",
   "name": "python3"
  },
  "language_info": {
   "codemirror_mode": {
    "name": "ipython",
    "version": 3
   },
   "file_extension": ".py",
   "mimetype": "text/x-python",
   "name": "python",
   "nbconvert_exporter": "python",
   "pygments_lexer": "ipython3",
   "version": "3.9.13"
  }
 },
 "nbformat": 4,
 "nbformat_minor": 5
}
